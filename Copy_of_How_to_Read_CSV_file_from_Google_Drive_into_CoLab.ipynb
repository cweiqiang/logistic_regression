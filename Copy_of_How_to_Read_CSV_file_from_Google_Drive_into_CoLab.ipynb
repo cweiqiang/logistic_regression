{
  "nbformat": 4,
  "nbformat_minor": 0,
  "metadata": {
    "colab": {
      "name": "Copy of How to Read CSV file from Google Drive into CoLab.ipynb",
      "version": "0.3.2",
      "provenance": [],
      "include_colab_link": true
    },
    "kernelspec": {
      "name": "python3",
      "display_name": "Python 3"
    }
  },
  "cells": [
    {
      "cell_type": "markdown",
      "metadata": {
        "id": "view-in-github",
        "colab_type": "text"
      },
      "source": [
        "[View in Colaboratory](https://colab.research.google.com/github/cweiqiang/logistic_regression/blob/master/Copy_of_How_to_Read_CSV_file_from_Google_Drive_into_CoLab.ipynb)"
      ]
    },
    {
      "metadata": {
        "id": "Mz_-vijfh5fn",
        "colab_type": "text"
      },
      "cell_type": "markdown",
      "source": [
        "# To read a csv file from my google drive into COLAB\n",
        "\n",
        "I needed to do the following steps:\n",
        "\n",
        "1) I first needed to authorize colaboratory to access my google drive with PyDrive. I used their code example for that. (pasted below)\n",
        "\n",
        "2) I also needed to log into my drive.google.com to find the target id of the file i wanted to download. I found this by right clicking on the file and copying the shared link for the ID. The id looks something like this: '1BH-rffqv_1auzO7tdubfaOwXzf278vJK'\n",
        "\n",
        "3) Then I ran downloaded.GetContentFile('myName.csv') - putting in the name i wanted (in your case it is xyz.csv)"
      ]
    },
    {
      "metadata": {
        "id": "A_OC3i-vhu0-",
        "colab_type": "code",
        "colab": {
          "base_uri": "https://localhost:8080/",
          "height": 177
        },
        "outputId": "5480fd05-3ffc-4934-8fec-cb0a086d587a"
      },
      "cell_type": "code",
      "source": [
        "# Code to read csv file into colaboratory:\n",
        "!pip install -U -q PyDrive\n",
        "from pydrive.auth import GoogleAuth\n",
        "from pydrive.drive import GoogleDrive\n",
        "from google.colab import auth\n",
        "from oauth2client.client import GoogleCredentials\n",
        "\n",
        "# 1. Authenticate and create the PyDrive client.\n",
        "auth.authenticate_user()\n",
        "gauth = GoogleAuth()\n",
        "gauth.credentials = GoogleCredentials.get_application_default()\n",
        "drive = GoogleDrive(gauth)\n",
        "\n",
        "#2. Get the file\n",
        "downloaded = drive.CreateFile({'id':'1jgXpjjw_uzGzwwzkUmdubfhpNfSVmoKQ'}) # replace the id with id of file you want to access\n",
        "downloaded.GetContentFile('height_weight_data.csv')  \n",
        "# 'id' obtained right clicking on the file and copying the sharable link for the ID\n",
        "# e.g., \"1jgXpjjw_uzGzwwzkUmdubfhpNfSVmoKQ\" from \"https://drive.google.com/open?id=1jgXpjjw_uzGzwwzkUmdubfhpNfSVmoKQ\"\n",
        "\n",
        "#3. Read file as panda dataframe\n",
        "import pandas as pd\n",
        "data = pd.read_csv('height_weight_data.csv')\n",
        "print(data.describe())"
      ],
      "execution_count": 1,
      "outputs": [
        {
          "output_type": "stream",
          "text": [
            "           Height      Weight\n",
            "count  732.000000  732.000000\n",
            "mean   166.308743   56.706284\n",
            "std      8.262637   11.489831\n",
            "min    145.000000   37.000000\n",
            "25%    160.000000   49.000000\n",
            "50%    166.000000   54.000000\n",
            "75%    172.000000   63.000000\n",
            "max    189.000000  123.000000\n"
          ],
          "name": "stdout"
        }
      ]
    },
    {
      "metadata": {
        "id": "9K9nE2FAibXC",
        "colab_type": "code",
        "colab": {}
      },
      "cell_type": "code",
      "source": [
        ""
      ],
      "execution_count": 0,
      "outputs": []
    }
  ]
}